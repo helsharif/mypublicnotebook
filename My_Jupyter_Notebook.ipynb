{
  "metadata": {
    "kernelspec": {
      "name": "python",
      "display_name": "Python (Pyodide)",
      "language": "python"
    },
    "language_info": {
      "codemirror_mode": {
        "name": "python",
        "version": 3
      },
      "file_extension": ".py",
      "mimetype": "text/x-python",
      "name": "python",
      "nbconvert_exporter": "python",
      "pygments_lexer": "ipython3",
      "version": "3.8"
    }
  },
  "nbformat_minor": 4,
  "nbformat": 4,
  "cells": [
    {
      "cell_type": "markdown",
      "source": "# Data Science Tools and Ecosystem",
      "metadata": {}
    },
    {
      "cell_type": "markdown",
      "source": "In this notebook, I summarize Data Science Tools and Ecosystem.",
      "metadata": {}
    },
    {
      "cell_type": "markdown",
      "source": "Below is an ordered list of data science languages:\n\n1. Python\n2. R\n3. SQL\n4. Scala\n5. Julia\n6. C++\n7. Ruby",
      "metadata": {}
    },
    {
      "cell_type": "markdown",
      "source": "Below is an ordered list of data science libraries:\n\n1. NumPy\n2. Pandas\n3. Matplotlib\n4. TensorFlow\n5. Keras\n6. SciPy\n7. Plotly\n8. PyTorch\n",
      "metadata": {}
    },
    {
      "cell_type": "markdown",
      "source": "Below is table data science tools:\n\n\n| Data Science Tools | \r\n|:------------------:|\rAnaconda \n|R Studio|\n|Jupyter Notebooks|\n|Jupyter Lab|\n|PyCharm|\n|VS Code|\n|Sypder|\n |\n",
      "metadata": {}
    },
    {
      "cell_type": "markdown",
      "source": "### What follows will be an example of an arithmetic expression evaluated in Python\n",
      "metadata": {}
    },
    {
      "cell_type": "code",
      "source": "#  code cell created to multiply and add numbers\nMathResult = 5.0 * 10.3 + 91.001\nprint(MathResult)",
      "metadata": {
        "trusted": true
      },
      "outputs": [
        {
          "name": "stdout",
          "text": "142.501\n",
          "output_type": "stream"
        }
      ],
      "execution_count": 4
    },
    {
      "cell_type": "code",
      "source": "# convert minutes to hours \nMyMinutes = 200 # minutes\nMinutesToHours = MyMinutes / 60\nprint(MinutesToHours)",
      "metadata": {
        "trusted": true
      },
      "outputs": [
        {
          "name": "stdout",
          "text": "3.3333333333333335\n",
          "output_type": "stream"
        }
      ],
      "execution_count": 9
    },
    {
      "cell_type": "markdown",
      "source": "# Unordered List Example",
      "metadata": {}
    },
    {
      "cell_type": "markdown",
      "source": "Below is an unordered list of objectives:\n\n- Create a Jupyter Notebook with markdown and code cells\r- \nList examples of languages, libraries and tools used in Data Scienc\n- \r\nShare your Jupyter Notebook publicly on GitH \n- b\r\nEvaluate notebooks submitted by your peers using the provided rub\n- ic\r\nDemonstrate proficiency in Data Science toolkit knowledge",
      "metadata": {}
    },
    {
      "cell_type": "markdown",
      "source": "## Author's Details\nAuthor's Name: Dr. H. A. El Sharif",
      "metadata": {}
    },
    {
      "cell_type": "code",
      "source": "",
      "metadata": {
        "trusted": true
      },
      "outputs": [],
      "execution_count": null
    }
  ]
}